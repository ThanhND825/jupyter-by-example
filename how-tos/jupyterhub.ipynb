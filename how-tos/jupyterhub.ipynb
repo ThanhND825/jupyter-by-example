{
 "cells": [
  {
   "cell_type": "markdown",
   "metadata": {},
   "source": [
    "# JupyterHub Tips & Tricks\n",
    "\n",
    "Here are some useful hints for everyday JupyterHub use."
   ]
  },
  {
   "cell_type": "markdown",
   "metadata": {},
   "source": [
    "## Creating user-agnostic notebook links\n",
    "\n",
    "If you want to create links to a specific notebook path (e.g. in a README) that work for any user on a specific JupyterHub server, replace `user/«username»` in the normal notebook URL by `hub/user-redirect`.\n",
    "\n",
    "The resulting link looks like this:\n",
    "\n",
    "    https://«domain»/hub/user-redirect/notebooks/«name».ipynb\n",
    "    \n",
    "If you follow it, you will be promptly redirected to your copy of the notebook. That is quite useful in classroom settings, where each student has their own copy of notebooks, but all under the same relative paths."
   ]
  }
 ],
 "metadata": {
  "kernelspec": {
   "display_name": "Python 3",
   "language": "python",
   "name": "python3"
  },
  "language_info": {
   "codemirror_mode": {
    "name": "ipython",
    "version": 3
   },
   "file_extension": ".py",
   "mimetype": "text/x-python",
   "name": "python",
   "nbconvert_exporter": "python",
   "pygments_lexer": "ipython3",
   "version": "3.6.7"
  }
 },
 "nbformat": 4,
 "nbformat_minor": 2
}

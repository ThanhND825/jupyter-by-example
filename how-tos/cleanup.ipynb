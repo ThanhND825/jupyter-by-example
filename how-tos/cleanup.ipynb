{
 "cells": [
  {
   "cell_type": "markdown",
   "metadata": {},
   "source": [
    "# Tips for Cleaning up Raw Data"
   ]
  },
  {
   "cell_type": "markdown",
   "metadata": {},
   "source": [
    "## Detecting and Filling in Missing Data\n",
    "\n",
    "The [missingno](https://github.com/ResidentMario/missingno#missingno----) package provides a small toolset of flexible and easy-to-use missing data visualizations and utilities. They allow you to get a quick visual summary of the completeness (or lack thereof) of your dataset."
   ]
  },
  {
   "cell_type": "code",
   "execution_count": 1,
   "metadata": {
    "scrolled": false
   },
   "outputs": [
    {
     "data": {
      "text/html": [
       "<img src=\"img/missingno.png?1551692687.1965191\"></img>"
      ],
      "text/plain": [
       "<IPython.core.display.HTML object>"
      ]
     },
     "execution_count": 1,
     "metadata": {},
     "output_type": "execute_result"
    }
   ],
   "source": [
    "%matplotlib notebook\n",
    "\n",
    "import time\n",
    "from IPython.display import HTML, clear_output\n",
    "import numpy as np\n",
    "import pandas as pd\n",
    "import missingno as msno\n",
    "\n",
    "raw_data = pd.read_csv(\"../data/cmdb-packages.csv\", sep=',')\n",
    "plot = msno.matrix(raw_data)\n",
    "\n",
    "chart_img = 'img/missingno.png'\n",
    "plot.figure.savefig(chart_img)\n",
    "clear_output()\n",
    "HTML('<img src=\"{}?{}\"></img>'.format(chart_img, time.time()))"
   ]
  },
  {
   "cell_type": "markdown",
   "metadata": {},
   "source": [
    "As you can (literally) see, some of the `Environment` values are missing.\n",
    "\n",
    "Once you got a mental image of what data is missing and how you can fill in reasonable substitute values, the primary means to do that is the `fillna(value)` method. But you can also select rows with missing values via `loc` and `isna`, and calculate a replacement value from other rows, e.g. the average of some related group."
   ]
  }
 ],
 "metadata": {
  "kernelspec": {
   "display_name": "Python 3",
   "language": "python",
   "name": "python3"
  },
  "language_info": {
   "codemirror_mode": {
    "name": "ipython",
    "version": 3
   },
   "file_extension": ".py",
   "mimetype": "text/x-python",
   "name": "python",
   "nbconvert_exporter": "python",
   "pygments_lexer": "ipython3",
   "version": "3.6.7"
  }
 },
 "nbformat": 4,
 "nbformat_minor": 2
}

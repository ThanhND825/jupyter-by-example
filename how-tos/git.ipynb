{
 "cells": [
  {
   "cell_type": "markdown",
   "metadata": {},
   "source": [
    "# Using git with Jupyter Notebooks\n",
    "\n",
    "When storing notebooks in git, it is preferable to *not* also commit the output cells, because otherwise diffs become unwieldy. Even with the preview features in many git web UIs, there are better ways for publishing full notebooks, see the `publish` directory in this repossitory for details."
   ]
  },
  {
   "cell_type": "markdown",
   "metadata": {},
   "source": [
    "## Committing Clean Notebooks Manually\n",
    "\n",
    "The easiest way to get a clean notebook that nicely fits into git is to call the `Cell » All Output » Clear` menu item, then save and finally commit the notebook. Restore the output cells using `Cell » Run All`."
   ]
  },
  {
   "cell_type": "markdown",
   "metadata": {},
   "source": [
    "## Pushing Text-Only Notebooks\n",
    "\n",
    "If you want to use the preview of GitHub and similar web interfaces\n",
    "*including* results, the prime goal is to avoid the lengthy blobs of\n",
    "text that represent image output cells. This can be done by storing\n",
    "created charts as PNG images and then putting HTML code into the output\n",
    "that references them."
   ]
  },
  {
   "cell_type": "code",
   "execution_count": 6,
   "metadata": {
    "scrolled": false
   },
   "outputs": [],
   "source": [
    "# TODO"
   ]
  },
  {
   "cell_type": "markdown",
   "metadata": {},
   "source": [
    "## git Hook Configuration\n",
    "\n",
    "**TODO**"
   ]
  }
 ],
 "metadata": {
  "kernelspec": {
   "display_name": "Python 3",
   "language": "python",
   "name": "python3"
  },
  "language_info": {
   "codemirror_mode": {
    "name": "ipython",
    "version": 3
   },
   "file_extension": ".py",
   "mimetype": "text/x-python",
   "name": "python",
   "nbconvert_exporter": "python",
   "pygments_lexer": "ipython3",
   "version": "3.6.8"
  }
 },
 "nbformat": 4,
 "nbformat_minor": 2
}

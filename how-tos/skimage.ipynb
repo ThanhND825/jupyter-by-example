{
 "cells": [
  {
   "cell_type": "markdown",
   "metadata": {},
   "source": [
    "# Image Processing in Python\n",
    "\n",
    "[scikit-image](https://scikit-image.org/) is a collection of algorithms for image processing, offering high-quality, peer-reviewed code, written by an active community of volunteers."
   ]
  },
  {
   "cell_type": "code",
   "execution_count": null,
   "metadata": {},
   "outputs": [],
   "source": [
    "%matplotlib inline\n",
    "\n",
    "import numpy as np\n",
    "import matplotlib.pyplot as plt\n",
    "from skimage import data, io, filters\n",
    "from skimage.util import montage\n",
    "\n",
    "char_width = 80\n",
    "plt.rcParams[\"figure.figsize\"] = (10, 5)\n",
    "plt.rcParams[\"font.size\"] = max(5,\n",
    "    plt.rcParams[\"figure.figsize\"][0] \n",
    "    * plt.rcParams[\"figure.dpi\"] \n",
    "    // char_width)\n",
    "\n",
    "image = data.coins()\n",
    "edges = filters.sobel(image)\n",
    "_ = io.imshow(montage(np.array([image, edges]), \n",
    "                  multichannel=False,\n",
    "                  rescale_intensity=True,\n",
    "                  grid_shape=(1, 2),\n",
    "))"
   ]
  }
 ],
 "metadata": {
  "kernelspec": {
   "display_name": "Python 3",
   "language": "python",
   "name": "python3"
  },
  "language_info": {
   "codemirror_mode": {
    "name": "ipython",
    "version": 3
   },
   "file_extension": ".py",
   "mimetype": "text/x-python",
   "name": "python",
   "nbconvert_exporter": "python",
   "pygments_lexer": "ipython3",
   "version": "3.6.7"
  }
 },
 "nbformat": 4,
 "nbformat_minor": 2
}

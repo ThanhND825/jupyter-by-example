{
 "cells": [
  {
   "cell_type": "markdown",
   "metadata": {},
   "source": [
    "# Sunburst Charts\n",
    "<img src=\"img/sunburst-logo.png\" style=\"float: right; padding-left: 1em;\"></img>\n",
    "\n",
    "Sunburst charts are stacked donut charts for multi-dimensional part-to-whole data, with the inner ring showing the first dimension, and getting more detailed towards the outer ring.\n",
    "\n",
    "The size of each section in a ring represents the percentage a classifier occupies in the related dimension."
   ]
  }
 ],
 "metadata": {
  "kernelspec": {
   "display_name": "Python 3",
   "language": "python",
   "name": "python3"
  },
  "language_info": {
   "codemirror_mode": {
    "name": "ipython",
    "version": 3
   },
   "file_extension": ".py",
   "mimetype": "text/x-python",
   "name": "python",
   "nbconvert_exporter": "python",
   "pygments_lexer": "ipython3",
   "version": "3.6.7"
  }
 },
 "nbformat": 4,
 "nbformat_minor": 2
}

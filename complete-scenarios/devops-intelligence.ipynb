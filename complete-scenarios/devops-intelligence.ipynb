{
 "cells": [
  {
   "cell_type": "markdown",
   "metadata": {},
   "source": [
    "# JupyterLab Showcase: DevOps Intelligence\n",
    "\n",
    "*DevOps Intelligence* turns data from software development and delivery processes into actionable insight, just like BI does for the business side. Jupyter is the ideal instrument for that, with its combination of powerful coding environments and a user interface facilitating experimentation with ultra-short feedback cycles.\n",
    "\n",
    "A Jupyter-based setup supports risk analysis and decision making within development and operations processes – typical business intelligence / data science procedures can be applied to the ‘business of making and running software’. The idea is to create feedback loops, and facilitate human decision making by automatically providing reliable input in form of up-to-date factoids. After all development is our business — so let's have KPIs for developing, releasing, and operating software."
   ]
  },
  {
   "cell_type": "markdown",
   "metadata": {},
   "source": [
    "## Typical Use-Cases\n",
    "\n",
    "Here are some obvious application areas where data analysis can be helpful on the technical side.\n",
    "\n",
    "* Migration processes of all kinds (current state, progress tracking, achievement of objectives)\n",
    "* Inventory reporting for increased transparency and support of operational decisions\n",
    "* Automate internal reporting processes to free up scarce assets and human expertise"
   ]
  },
  {
   "cell_type": "markdown",
   "metadata": {},
   "source": [
    "## Platform Architecture\n",
    "\n",
    "A simple [JupyterHub](https://jupyter.org/hub) setup can enable you to do analysis on your already available but under-used and hardly understood data, without any great investment of effort or capital. By adding a single JupyterHub host, you can use the built-in Python3 kernel to access existing internal data sources.\n",
    "\n",
    "The following diagram shows what role JupyterHub can play in an existing environment."
   ]
  },
  {
   "cell_type": "markdown",
   "metadata": {},
   "source": [
    "> ![DevOps Intelligence Architecture](https://github.com/1and1/debianized-jupyterhub/raw/master/docs/_static/img/devops-intelligence.png)"
   ]
  },
  {
   "cell_type": "markdown",
   "metadata": {},
   "source": [
    "To make such a deployment easy, the [1and1/debianized-jupyterhub](https://github.com/1and1/debianized-jupyterhub#jupyterhub-debian-packaging) project provides a JupyterHub service including a fully equipped Python3 kernel as a single Debian package – only Python3, NodeJS, and Chromium (for visualization frameworks) packages must be installed in addition to the `jupyterhub` one.\n",
    "\n",
    "Including a [NginX-based SSL off-loader](https://github.com/1and1/debianized-jupyterhub#securing-your-jupyterhub-web-service-with-an-ssl-off-loader), the [complete setup](https://github.com/1and1/debianized-jupyterhub#how-to-set-up-a-simple-service-instance) can be done in under an hour."
   ]
  },
  {
   "cell_type": "markdown",
   "metadata": {},
   "source": [
    "## Use-Case: Migration Reporting\n",
    "\n",
    "At the time of this writing (early 2019), a widespread challenge is migration from Oracle Java to other vendors, and also to start migration from Java 8 to newer versions (Java 11). If you do that at scale across many machines and teams, you definitely need some kind of governance, and constant feedback on the current status and the rate of progress."
   ]
  }
 ],
 "metadata": {
  "kernelspec": {
   "display_name": "Python 3",
   "language": "python",
   "name": "python3"
  },
  "language_info": {
   "codemirror_mode": {
    "name": "ipython",
    "version": 3
   },
   "file_extension": ".py",
   "mimetype": "text/x-python",
   "name": "python",
   "nbconvert_exporter": "python",
   "pygments_lexer": "ipython3",
   "version": "3.6.8"
  }
 },
 "nbformat": 4,
 "nbformat_minor": 2
}

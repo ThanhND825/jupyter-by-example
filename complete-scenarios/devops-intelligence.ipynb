{
 "cells": [
  {
   "cell_type": "markdown",
   "metadata": {},
   "source": [
    "# DevOps Intelligence\n",
    "\n",
    "*DevOps Intelligence* turns data from software development and delivery processes into actionable insight, just like BI does for the business side. Jupyter is the ideal instrument for that, with its combination of powerful coding environments and a user interface facilitating experimentation with ultra-short feedback cycles."
   ]
  },
  {
   "cell_type": "markdown",
   "metadata": {},
   "source": [
    "## Typical Use-Cases\n",
    "\n",
    "Here are some obvious application areas where data analysis can be helpful on the technical side.\n",
    "\n",
    "* Migration processes of all kinds (current state, progress tracking, achievement of objectives)\n",
    "* Inventory reporting for increased transparency and support of operational decisions\n",
    "* Automate internal reporting processes to free up scarce assets and human expertise"
   ]
  },
  {
   "cell_type": "markdown",
   "metadata": {},
   "source": [
    "## Migration Reporting\n",
    "\n",
    "At the time of this writing (early 2019), a widespread challenge is migration from Oracle Java to other vendors, and also to start migration from Java 8 to newer versions (Java 11). If you do that at scale across many machine and teams, you definitely need some kind of governance, and constant feedback on the current status and progress."
   ]
  }
 ],
 "metadata": {
  "kernelspec": {
   "display_name": "Python 3",
   "language": "python",
   "name": "python3"
  },
  "language_info": {
   "codemirror_mode": {
    "name": "ipython",
    "version": 3
   },
   "file_extension": ".py",
   "mimetype": "text/x-python",
   "name": "python",
   "nbconvert_exporter": "python",
   "pygments_lexer": "ipython3",
   "version": "3.6.8"
  }
 },
 "nbformat": 4,
 "nbformat_minor": 2
}

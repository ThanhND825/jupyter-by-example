{
 "cells": [
  {
   "cell_type": "markdown",
   "metadata": {},
   "source": [
    "# Data Visualization with Altair / Vega\n",
    "\n",
    "[Altair](https://altair-viz.github.io/) is a declarative statistical visualization library, based on the [Vega](http://vega.github.io/vega) and [Vega-Lite](http://vega.github.io/vega-lite) grammar of graphics.\n",
    "\n",
    "You need to install the `altair` and `vega` Python packages, plus possibly `vega_dataset` if you want to work on their examples. Altair needs at least Python 3.5.3.\n",
    "\n",
    "## Documentation\n",
    "\n",
    "The [main documentation](https://altair-viz.github.io/) includes an extensive user guide as well as a gallery and case studies, here are a few links to special topics that are often needed but somewhat hard to find.\n",
    "\n",
    "* [Mark definition parameters explained](https://altair-viz.github.io/user_guide/generated/core/altair.MarkDef.html#)\n",
    "* [X axis specifications](https://altair-viz.github.io/user_guide/generated/channels/altair.X.html)\n",
    "\n",
    "## Initialization\n",
    "\n",
    "To register the Altair renderer in the classic notebook, you need the following code (typically in your first code cell)."
   ]
  },
  {
   "cell_type": "code",
   "execution_count": 5,
   "metadata": {},
   "outputs": [],
   "source": [
    "import altair as alt\n",
    "\n",
    "# Enable Altair for notebooks (not needed for JupyterLab)\n",
    "_ = alt.renderers.enable('notebook')"
   ]
  },
  {
   "cell_type": "markdown",
   "metadata": {},
   "source": [
    "Note that this is not necessary with JupyterLab.\n",
    "\n",
    "To be able to render PNG images from Altair charts, you need some more prep work. Your Jupyter installation needs to have the `selenium` Python package installed (see the `setup` folder for hints on that), which in turn requires the `chromedriver` executable to work. \n",
    "\n",
    "The following code helps when you cannot install that program more globally and download it into the folder of your notebook, by adding it to the command search `PATH`."
   ]
  },
  {
   "cell_type": "code",
   "execution_count": 4,
   "metadata": {},
   "outputs": [],
   "source": [
    "import os\n",
    "\n",
    "# Find a 'chromedriver' in the notebook's directory\n",
    "if os.getcwd() not in os.environ['PATH'].split(os.pathsep): \n",
    "    os.environ['PATH'] += os.pathsep + os.getcwd()"
   ]
  }
 ],
 "metadata": {
  "kernelspec": {
   "display_name": "Python 3",
   "language": "python",
   "name": "python3"
  },
  "language_info": {
   "codemirror_mode": {
    "name": "ipython",
    "version": 3
   },
   "file_extension": ".py",
   "mimetype": "text/x-python",
   "name": "python",
   "nbconvert_exporter": "python",
   "pygments_lexer": "ipython3",
   "version": "3.6.8"
  }
 },
 "nbformat": 4,
 "nbformat_minor": 2
}

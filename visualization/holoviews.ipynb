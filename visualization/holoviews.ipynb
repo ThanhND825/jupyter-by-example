{
 "cells": [
  {
   "cell_type": "markdown",
   "metadata": {},
   "source": [
    "# Data Visualization with HoloViews\n",
    "\n",
    "## Overview\n",
    "\n",
    "[HoloViews](http://holoviews.org/) is an open-source Python library designed to make data analysis and visualization seamless and simple. With HoloViews, you can usually express what you want to do in very few lines of code, letting you focus on what you are trying to explore and convey, not on the process of plotting.\n",
    "\n",
    "> **“Stop plotting your data - annotate your data and let it visualize itself.”**\n",
    "\n",
    "See [Installing and Configuring HoloViews](http://holoviews.org/user_guide/Installing_and_Configuring.html#installing-and-configuring-holoviews) on what you need to do before using it the first time."
   ]
  },
  {
   "cell_type": "markdown",
   "metadata": {},
   "source": [
    "## Configuration\n",
    "\n",
    "Add the following snippet to your `~/.jupyter/jupyter_notebook_config.py` file to prevent possible problems with downloading larger graphs to your browser.\n",
    "\n",
    "    c = get_config()\n",
    "    c.NotebookApp.iopub_data_rate_limit=100000000\n",
    "    \n",
    "Another option is to do that per notebookm like here:"
   ]
  },
  {
   "cell_type": "code",
   "execution_count": null,
   "metadata": {},
   "outputs": [],
   "source": [
    "%config NotebookApp.iopub_data_rate_limit=100000000"
   ]
  },
  {
   "cell_type": "markdown",
   "metadata": {},
   "source": [
    "The advantage of doing it this way is that your notebook is more likely to run in other environments than yours. \n",
    "\n",
    "Another thing to do once per notebook is selecting the backend to use."
   ]
  },
  {
   "cell_type": "code",
   "execution_count": null,
   "metadata": {},
   "outputs": [],
   "source": [
    "import numpy as np\n",
    "import holoviews as hv\n",
    "\n",
    "hv.extension('matplotlib')  # or plotly"
   ]
  },
  {
   "cell_type": "markdown",
   "metadata": {},
   "source": [
    "## Sample HoloViews Plot"
   ]
  },
  {
   "cell_type": "code",
   "execution_count": null,
   "metadata": {},
   "outputs": [],
   "source": [
    "def sine_curve(phase, freq):\n",
    "    xvals = [0.1 * i for i in range(100)]\n",
    "    return hv.Curve((xvals, [np.sin(phase + freq * x) for x in xvals]))\n",
    "\n",
    "phases = [0, np.pi / 2, np.pi, 3 * np.pi / 2]\n",
    "frequencies = [0.5, 0.75, 1.0, 1.25]\n",
    "curve_dict_2D = {(p, f): sine_curve(p,f) for p in phases for f in frequencies}\n",
    "\n",
    "gridspace = hv.GridSpace(curve_dict_2D, kdims=['phase', 'frequency']).opts(\n",
    "    title='My First HoloViews Graph ☺', \n",
    "    fontsize={'title': 18, 'labels': 14, 'xticks': 10, 'yticks': 10},\n",
    "    #gcolor='#f0f0f0',\n",
    ")\n",
    "gridspace"
   ]
  }
 ],
 "metadata": {
  "kernelspec": {
   "display_name": "Python 3",
   "language": "python",
   "name": "python3"
  },
  "language_info": {
   "codemirror_mode": {
    "name": "ipython",
    "version": 3
   },
   "file_extension": ".py",
   "mimetype": "text/x-python",
   "name": "python",
   "nbconvert_exporter": "python",
   "pygments_lexer": "ipython3",
   "version": "3.6.8"
  }
 },
 "nbformat": 4,
 "nbformat_minor": 2
}

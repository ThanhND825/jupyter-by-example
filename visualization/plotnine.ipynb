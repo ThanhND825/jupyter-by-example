{
 "cells": [
  {
   "cell_type": "markdown",
   "metadata": {},
   "source": [
    "# Data Visualization with plotnine\n",
    "\n",
    "The [plotnine](https://github.com/has2k1/plotnine) project provides a grammar of graphics for Python that is modelled after R's `ggplot2`. \n",
    "\n",
    "The grammar allows users to compose plots by explicitly mapping data to the visual objects that make up the plot. Plotting with a grammar is powerful, it makes custom (and otherwise complex) plots are easy to think about and then create, while the simple plots remain simple.\n",
    "\n",
    "Note that [yhat/ggpy](https://github.com/yhat/ggpy), the other port of `ggplot2`, is dead (last change in 2016). But there is a [working, maintained fork](https://github.com/sushinoya/ggpy)."
   ]
  }
 ],
 "metadata": {
  "kernelspec": {
   "display_name": "Python 3",
   "language": "python",
   "name": "python3"
  },
  "language_info": {
   "codemirror_mode": {
    "name": "ipython",
    "version": 3
   },
   "file_extension": ".py",
   "mimetype": "text/x-python",
   "name": "python",
   "nbconvert_exporter": "python",
   "pygments_lexer": "ipython3",
   "version": "3.6.7"
  }
 },
 "nbformat": 4,
 "nbformat_minor": 2
}
